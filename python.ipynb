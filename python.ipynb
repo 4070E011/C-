{
  "nbformat": 4,
  "nbformat_minor": 0,
  "metadata": {
    "colab": {
      "name": "Untitled1.ipynb",
      "version": "0.3.2",
      "provenance": [],
      "include_colab_link": true
    },
    "kernelspec": {
      "name": "python3",
      "display_name": "Python 3"
    }
  },
  "cells": [
    {
      "cell_type": "markdown",
      "metadata": {
        "id": "view-in-github",
        "colab_type": "text"
      },
      "source": [
        "<a href=\"https://colab.research.google.com/github/qaqa0620331/C-/blob/master/python.ipynb\" target=\"_parent\"><img src=\"https://colab.research.google.com/assets/colab-badge.svg\" alt=\"Open In Colab\"/></a>"
      ]
    },
    {
      "metadata": {
        "id": "dzJM6pyF4A7s",
        "colab_type": "text"
      },
      "cell_type": "markdown",
      "source": [
        "### Chapter 2.1 ComputeArea\n"
      ]
    },
    {
      "metadata": {
        "id": "9yOF67KJ4cHU",
        "colab_type": "code",
        "colab": {}
      },
      "cell_type": "code",
      "source": [
        "# Assign a radius\n",
        "radius = 20 # radius is now 20\n",
        "\n",
        "# Compute area\n",
        "area = radius * radius * 3.14159\n",
        "\n",
        "# Display results\n",
        "print(\"The area for the circle of radius\", radius, \"is\", area)"
      ],
      "execution_count": 0,
      "outputs": []
    },
    {
      "metadata": {
        "colab_type": "text",
        "id": "f0mTrwAE4H9v"
      },
      "cell_type": "markdown",
      "source": [
        "### Chapter 2.3 ComputeAverage"
      ]
    },
    {
      "metadata": {
        "id": "gn_72Nqb3bA8",
        "colab_type": "code",
        "colab": {
          "base_uri": "https://localhost:8080/",
          "height": 85
        },
        "outputId": "42efa4ea-1e84-4720-90be-c1ceb0bd8220"
      },
      "cell_type": "code",
      "source": [
        "# Prompt the user to enter three numbers\n",
        "number1 = eval(input(\"Enter the first number: \"))\n",
        "number2 = eval(input(\"Enter the second number: \"))\n",
        "number3 = eval(input(\"Enter the third number: \"))\n",
        "\n",
        "# Compute average\n",
        "average = (number1 + number2 + number3) / 3\n",
        "\n",
        "# Display result\n",
        "print(\"The average of\", number1, number2, number3, \n",
        "    \"is\", average)\n"
      ],
      "execution_count": 4,
      "outputs": [
        {
          "output_type": "stream",
          "text": [
            "Enter the first number: 1\n",
            "Enter the second number: 2\n",
            "Enter the third number: 3\n",
            "The average of 1 2 3 is 2.0\n"
          ],
          "name": "stdout"
        }
      ]
    },
    {
      "metadata": {
        "id": "ztxl3F_j4yOj",
        "colab_type": "text"
      },
      "cell_type": "markdown",
      "source": [
        "### Chapter 3.1 MathFunctions"
      ]
    },
    {
      "metadata": {
        "id": "FKXCdflO5HJt",
        "colab_type": "code",
        "colab": {
          "base_uri": "https://localhost:8080/",
          "height": 170
        },
        "outputId": "5c171672-c33e-4425-e0d4-f8ea4acfe0b7"
      },
      "cell_type": "code",
      "source": [
        "import math # import Math module to use the math functions\n",
        " \n",
        "# Test algebraic functions\n",
        "print(\"exp(1.0) =\", math.exp(1))\n",
        "print(\"log(3.78) =\", math.log(math.e))\n",
        "print(\"log10(10, 10) =\", math.log(10, 10))\n",
        "print(\"sqrt(4.0) =\", math.sqrt(4.0))\n",
        " \n",
        "# Test trigonometric functions\n",
        "print(\"sin(PI / 2) =\", math.sin(math.pi / 2))\n",
        "print(\"cos(PI / 2) =\", math.cos(math.pi / 2))\n",
        "print(\"tan(PI / 2) =\", math.tan(math.pi / 2))\n",
        "print(\"degrees(1.57) =\", math.degrees(1.57))\n",
        "print(\"radians(90) =\", math.radians(90))\n"
      ],
      "execution_count": 5,
      "outputs": [
        {
          "output_type": "stream",
          "text": [
            "exp(1.0) = 2.718281828459045\n",
            "log(3.78) = 1.0\n",
            "log10(10, 10) = 1.0\n",
            "sqrt(4.0) = 2.0\n",
            "sin(PI / 2) = 1.0\n",
            "cos(PI / 2) = 6.123233995736766e-17\n",
            "tan(PI / 2) = 1.633123935319537e+16\n",
            "degrees(1.57) = 89.95437383553924\n",
            "radians(90) = 1.5707963267948966\n"
          ],
          "name": "stdout"
        }
      ]
    },
    {
      "metadata": {
        "id": "Z9p9WUqp6CcE",
        "colab_type": "text"
      },
      "cell_type": "markdown",
      "source": [
        "### Chapter 4.2 SimpleIfDemo"
      ]
    },
    {
      "metadata": {
        "id": "zuHUiST16S2C",
        "colab_type": "code",
        "colab": {
          "base_uri": "https://localhost:8080/",
          "height": 68
        },
        "outputId": "b6a406e4-6378-4e97-a189-a9579a17466e"
      },
      "cell_type": "code",
      "source": [
        "#如果能被5整除則顯示HiFive\n",
        "#如果能被2整除則顯示HiEven\n",
        "number = eval(input(\"Enter an integer: \"))\n",
        "\n",
        "if number % 5 == 0 :\n",
        "   print(\"HiFive\");\n",
        "\n",
        "if number % 2 == 0 :\n",
        "   print(\"HiEven\");"
      ],
      "execution_count": 6,
      "outputs": [
        {
          "output_type": "stream",
          "text": [
            "Enter an integer: 20\n",
            "HiFive\n",
            "HiEven\n"
          ],
          "name": "stdout"
        }
      ]
    },
    {
      "metadata": {
        "id": "9jes9uFs7jdV",
        "colab_type": "text"
      },
      "cell_type": "markdown",
      "source": [
        "### Chapter 5.4 SubtractionQuizLoop"
      ]
    },
    {
      "metadata": {
        "id": "a_XeRR3p74hk",
        "colab_type": "code",
        "colab": {
          "base_uri": "https://localhost:8080/",
          "height": 221
        },
        "outputId": "74573ed2-bcec-4070-9567-942a687fc35b"
      },
      "cell_type": "code",
      "source": [
        "#while迴圈\n",
        "import random\n",
        "import time\n",
        "\n",
        "correctCount = 0 # Count the number of correct answers\n",
        "count = 0 # Count the number of questions\n",
        "NUMBER_OF_QUESTIONS = 5 # Constant\n",
        "\n",
        "startTime = time.time() # Get start time\n",
        "\n",
        "while count < NUMBER_OF_QUESTIONS:\n",
        "    # 1. Generate two random single-digit integers\n",
        "    number1 = random.randint(0, 9)\n",
        "    number2 = random.randint(0, 9)\n",
        "\n",
        "    # 2. If number1 < number2, swap number1 with number2\n",
        "    if number1 < number2:\n",
        "        number1, number2 = number2, number1\n",
        "\n",
        "    # 3. Prompt the student to answer \"what is number1 - number2?\" \n",
        "    answer = eval(input(\"What is \" + str(number1) + \" - \" + \n",
        "        str(number2) + \"? \"))\n",
        "\n",
        "    # 5. Grade the answer and display the result\n",
        "    if number1 - number2 == answer:\n",
        "        print(\"You are correct!\")\n",
        "        correctCount += 1\n",
        "    else:\n",
        "        print(\"Your answer is wrong.\\n\", number1, \"-\",\n",
        "            number2, \"should be\", (number1 - number2))\n",
        "\n",
        "    # Increase the count\n",
        "    count += 1\n",
        "\n",
        "endTime = time.time() # Get end time\n",
        "testTime = int(endTime - startTime) # Get test time\n",
        "print(\"Correct count is\", correctCount, \"out of\", \n",
        "    NUMBER_OF_QUESTIONS, \"\\nTest time is\", testTime, \"seconds\")\n"
      ],
      "execution_count": 7,
      "outputs": [
        {
          "output_type": "stream",
          "text": [
            "What is 6 - 2? 4\n",
            "You are correct!\n",
            "What is 6 - 5? 1\n",
            "You are correct!\n",
            "What is 4 - 0? 4\n",
            "You are correct!\n",
            "What is 8 - 1? 7\n",
            "You are correct!\n",
            "What is 7 - 1? 6\n",
            "You are correct!\n",
            "Correct count is 5 out of 5 \n",
            "Test time is 19 seconds\n"
          ],
          "name": "stdout"
        }
      ]
    },
    {
      "metadata": {
        "id": "KKeDOIUq83dz",
        "colab_type": "text"
      },
      "cell_type": "markdown",
      "source": [
        "### Chapter 6.1 TestMax"
      ]
    },
    {
      "metadata": {
        "id": "dqnm7Jwj83Qc",
        "colab_type": "code",
        "colab": {}
      },
      "cell_type": "code",
      "source": [
        "# Return the max between two numbers \n",
        "def max(num1, num2): \n",
        "    if num1 > num2:\n",
        "        result = num1\n",
        "    else:\n",
        "        result = num2\n",
        "\n",
        "    return result\n",
        "\n",
        "def main():\n",
        "    i = 5\n",
        "    j = 2\n",
        "    k = max(i, j) # Call the max function\n",
        "    print(\"The maximum between\", i, \"and\", j, \"is\", k)\n",
        "\n",
        "main() # Call the main function\n"
      ],
      "execution_count": 0,
      "outputs": []
    }
  ]
}